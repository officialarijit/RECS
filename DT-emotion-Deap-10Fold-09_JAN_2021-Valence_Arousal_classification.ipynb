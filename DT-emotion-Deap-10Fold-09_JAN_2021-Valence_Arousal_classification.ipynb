{
 "cells": [
  {
   "cell_type": "code",
   "execution_count": 6,
   "metadata": {},
   "outputs": [],
   "source": [
    "import numpy as np\n",
    "import pandas as pd \n",
    "from sklearn import tree\n",
    "from sklearn.metrics import accuracy_score\n",
    "from sklearn.metrics import f1_score\n",
    "from mlxtend.plotting import plot_confusion_matrix\n",
    "import matplotlib.pyplot as plt\n",
    "from sklearn.metrics import confusion_matrix"
   ]
  },
  {
   "cell_type": "code",
   "execution_count": 7,
   "metadata": {},
   "outputs": [
    {
     "name": "stdout",
     "output_type": "stream",
     "text": [
      "(1280, 100)\n"
     ]
    }
   ],
   "source": [
    "#==============================================================\n",
    "#======= Training and Testing Set declaration =================\n",
    "#==============================================================\n",
    "\n",
    "filename = '2021_Valence_Arousal_Class_emo.csv'\n",
    "data = pd.read_csv(filename, header = None)\n",
    "print(data.shape)\n",
    "\n",
    "X = data.iloc[:,range(2,98)]\n",
    "val_y = data.iloc[:,-2] \n",
    "aro_y =data.iloc[:,-1]\n"
   ]
  },
  {
   "cell_type": "code",
   "execution_count": null,
   "metadata": {},
   "outputs": [],
   "source": [
    "from sklearn.model_selection import StratifiedKFold\n",
    "\n",
    "\n",
    "kf = StratifiedKFold(n_splits=10, shuffle=True)\n",
    "\n",
    "i = 1\n",
    "\n",
    "scr =[]\n",
    "for train, test in kf.split(X,val_y):\n",
    "#     print(\"%s %s\" % (train, test))\n",
    "#     X_train, X_test, y_train, y_test = X[train], X[test], y[train], y[test]\n",
    "    \n",
    "    #==============================================================\n",
    "    #============= Arousal Emotion train test======================\n",
    "    #==============================================================\n",
    "    aX_train, aX_test, ay_train, ay_test = X.iloc[train,:], X.iloc[test,:], val_y[train], val_y[test]\n",
    "\n",
    "    #==============================================================\n",
    "    #============= Arousal Emotion train test======================\n",
    "    #==============================================================\n",
    "    vX_train, vX_test, vy_train, vy_test = X.iloc[train,:], X.iloc[test,:], aro_y[train], aro_y[test]\n",
    "\n",
    "    #==============================================================\n",
    "    #========================SVM Model Declaration=================\n",
    "    #==============================================================\n",
    "    clf_val = tree.DecisionTreeClassifier()\n",
    "\n",
    "\n",
    "    #==============================================================\n",
    "    #==================Valence classification======================\n",
    "    #==============================================================\n",
    "\n",
    "    clf_val.fit(vX_train, vy_train) #SVM model train\n",
    "\n",
    "\n",
    "    vy_prdt = clf_val.predict(vX_test) #valence class prediction\n",
    "\n",
    "    #valence Accuracy\n",
    "    vAcc = accuracy_score(vy_test, vy_prdt)\n",
    "    vf1 = f1_score(vy_test, vy_prdt)\n",
    "    \n",
    "    print('Fold:',i)\n",
    "\n",
    "    print('DT Valence classification Accuracy :',vAcc)\n",
    "\n",
    "    print('DT Valence classification F1 Score:',vf1)\n",
    "\n",
    "    #==============================================================\n",
    "    #==================Arousal classification======================\n",
    "    #==============================================================\n",
    "    clf_aro = tree.DecisionTreeClassifier()\n",
    "\n",
    "    clf_aro.fit(aX_train, ay_train) #SVM model train\n",
    "\n",
    "\n",
    "    ay_prdt = clf_aro.predict(aX_test) #valence class prediction\n",
    "\n",
    "    #valence Accuracy\n",
    "    aAcc = accuracy_score(ay_test, ay_prdt)\n",
    "    af1 = f1_score(ay_test, ay_prdt)\n",
    "\n",
    "    print('DT Arousal classification Accuracy :',aAcc)\n",
    "\n",
    "    print('DT Arousal classification F1 Score:',af1)\n",
    "    \n",
    "    print('-------------------------------------------------------------')\n",
    "    \n",
    "    scr.append([i,vAcc,vf1, aAcc,af1])\n",
    "    \n",
    "    i = i+1\n",
    "    \n",
    "flname = '11_12_2020_All_person'+'_DT_results_10_Fold.csv'\n",
    "np.savetxt(flname,scr, delimiter = ',')"
   ]
  }
 ],
 "metadata": {
  "kernelspec": {
   "display_name": "Python 3",
   "language": "python",
   "name": "python3"
  },
  "language_info": {
   "codemirror_mode": {
    "name": "ipython",
    "version": 3
   },
   "file_extension": ".py",
   "mimetype": "text/x-python",
   "name": "python",
   "nbconvert_exporter": "python",
   "pygments_lexer": "ipython3",
   "version": "3.7.6"
  }
 },
 "nbformat": 4,
 "nbformat_minor": 4
}
