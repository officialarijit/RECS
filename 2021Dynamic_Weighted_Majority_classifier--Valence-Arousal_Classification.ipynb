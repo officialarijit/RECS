{
 "cells": [
  {
   "cell_type": "code",
   "execution_count": 1,
   "metadata": {},
   "outputs": [
    {
     "name": "stdout",
     "output_type": "stream",
     "text": [
      "1280 valence samples analyzed.\n",
      "1280 arousal samples analyzed.\n"
     ]
    }
   ],
   "source": [
    "# Imports\n",
    "import numpy as np\n",
    "from skmultiflow.meta import DynamicWeightedMajority\n",
    "from skmultiflow.data.file_stream import FileStream\n",
    "\n",
    "val_actual_class_labels=[] #Valence Acutal class labels\n",
    "\n",
    "val_predicted_class_labels=[] #Valence Predicted Class labels\n",
    "\n",
    "aro_actual_class_labels =[] #Arousal Acutal class labels\n",
    "\n",
    "aro_predicted_class_labels=[] #Arousal Predicted Class labels\n",
    "\n",
    "#===================================================\n",
    "# Valence Classification From EEG Stream\n",
    "#===================================================\n",
    "\n",
    "stream = FileStream('2021_Valence_Class_emo.csv')\n",
    "stream.prepare_for_use()\n",
    "\n",
    "# Setup Hoeffding Tree estimator\n",
    "ht = DynamicWeightedMajority()\n",
    "\n",
    "# Setup variables to control loop and track performance\n",
    "n_samples = 0\n",
    "correct_cnt = 0\n",
    "max_samples = 1280\n",
    "\n",
    "val_act_prdt_class_labels =[]\n",
    "\n",
    "\n",
    "# Train the estimator with the samples provided by the data stream\n",
    "while n_samples < max_samples and stream.has_more_samples():\n",
    "    X, y = stream.next_sample()\n",
    "    \n",
    "    y_pred = ht.predict(X) \n",
    "    \n",
    "    val_actual_class_labels.append(y)\n",
    "    val_predicted_class_labels.append(y_pred)\n",
    "    \n",
    "    val_act_prdt_class_labels.append([y,y_pred])\n",
    "    \n",
    "    if y[0] == y_pred[0]:\n",
    "        correct_cnt += 1\n",
    "    ht = ht.partial_fit(X, y)\n",
    "    n_samples += 1\n",
    "    \n",
    "    \n",
    "# # Display results\n",
    "print('{} valence samples analyzed.'.format(n_samples))\n",
    "\n",
    "#===================================================\n",
    "# Valence Classification From EEG Stream\n",
    "#===================================================\n",
    "\n",
    "stream = FileStream('2021_Arousal_Class_emo.csv')\n",
    "stream.prepare_for_use()\n",
    "\n",
    "# Setup Hoeffding Tree estimator\n",
    "ht = DynamicWeightedMajority()\n",
    "\n",
    "# Setup variables to control loop and track performance\n",
    "n_samples = 0\n",
    "correct_cnt = 0\n",
    "max_samples = 1280\n",
    "\n",
    "aro_act_prdt_class_labels =[]\n",
    "\n",
    "\n",
    "# Train the estimator with the samples provided by the data stream\n",
    "while n_samples < max_samples and stream.has_more_samples():\n",
    "    X, y = stream.next_sample()\n",
    "    \n",
    "    y_pred = ht.predict(X)\n",
    "    \n",
    "    aro_actual_class_labels.append(y)\n",
    "    aro_predicted_class_labels.append(y_pred)\n",
    "    \n",
    "    aro_act_prdt_class_labels.append([y,y_pred])\n",
    "    \n",
    "    if y[0] == y_pred[0]:\n",
    "        correct_cnt += 1\n",
    "    ht = ht.partial_fit(X, y)\n",
    "    n_samples += 1\n",
    "    \n",
    "    \n",
    "# # Display results\n",
    "print('{} arousal samples analyzed.'.format(n_samples))\n"
   ]
  },
  {
   "cell_type": "code",
   "execution_count": 2,
   "metadata": {},
   "outputs": [],
   "source": [
    "#Reshaping 3D array to 2D array\n",
    "#================================\n",
    "#  Valence\n",
    "#================================\n",
    "val_act = np.array(val_act_prdt_class_labels)\n",
    "a,b,c = val_act.shape\n",
    "\n",
    "newList_val = val_act.reshape(a,-1)\n",
    "\n",
    "\n",
    "#================================\n",
    "# Arousal\n",
    "#================================\n",
    "\n",
    "aro_act = np.array(aro_act_prdt_class_labels)\n",
    "a,b,c = aro_act.shape\n",
    "\n",
    "newList_aro = aro_act.reshape(a,-1)\n"
   ]
  },
  {
   "cell_type": "code",
   "execution_count": 3,
   "metadata": {},
   "outputs": [],
   "source": [
    "classifier = 'Dynamic Weighted Majority'\n",
    "fname_val = '12_JAN_2020_Valence_ALL_person'+'_' +classifier+'_results.csv'\n",
    "np.savetxt(fname_val,newList_val, delimiter =\"\\t\", fmt =['%d', '%d'], \n",
    "        header='y_act_discrete_emotion, y_pred_discrete_emotion')\n",
    "\n",
    "\n",
    "fname_val = '12_JAN_2020_Arousal_ALL_person'+'_' +classifier+'_results.csv'\n",
    "np.savetxt(fname_val,newList_aro, delimiter =\"\\t\", fmt =['%d', '%d'], \n",
    "        header='y_act_discrete_emotion, y_pred_discrete_emotion')"
   ]
  },
  {
   "cell_type": "code",
   "execution_count": 4,
   "metadata": {},
   "outputs": [
    {
     "name": "stdout",
     "output_type": "stream",
     "text": [
      "Confiusion matric\n",
      "[[149 423]\n",
      " [ 97 611]]\n",
      "Classification Report\n",
      "              precision    recall  f1-score   support\n",
      "\n",
      "         Low       0.61      0.26      0.36       572\n",
      "        High       0.59      0.86      0.70       708\n",
      "\n",
      "    accuracy                           0.59      1280\n",
      "   macro avg       0.60      0.56      0.53      1280\n",
      "weighted avg       0.60      0.59      0.55      1280\n",
      "\n"
     ]
    },
    {
     "data": {
      "image/png": "[encoded data removed]",
      "text/plain": [
       "<Figure size 432x288 with 2 Axes>"
      ]
     },
     "metadata": {
      "needs_background": "light"
     },
     "output_type": "display_data"
    }
   ],
   "source": [
    "#============================================\n",
    "# Valence Classification Report\n",
    "#============================================\n",
    "from sklearn.metrics import confusion_matrix\n",
    "from sklearn.metrics import balanced_accuracy_score\n",
    "from sklearn.metrics import classification_report\n",
    "\n",
    "y_true = val_actual_class_labels #Acutal class labels\n",
    "\n",
    "y_pred = val_predicted_class_labels #Predicted Class labels\n",
    "\n",
    "cm = confusion_matrix(y_true, y_pred) # Confusion Matrix\n",
    "\n",
    "target_names = ['Low','High'] # Class names\n",
    "\n",
    "c_report = classification_report(y_true, y_pred, target_names=target_names) #Classification report\n",
    "\n",
    "acc_score = balanced_accuracy_score(y_true, y_pred) #Balanced accuracy Score calculation\n",
    "\n",
    "\n",
    "print('Confiusion matric')\n",
    "print(cm)\n",
    "\n",
    "# print('Accuracy score', acc_score)\n",
    "\n",
    "print('Classification Report')\n",
    "print(c_report)\n",
    "\n",
    "from mlxtend.plotting import plot_confusion_matrix\n",
    "import matplotlib.pyplot as plt\n",
    "\n",
    "class_names = target_names\n",
    "\n",
    "## Plot Confusion matric Valence \n",
    "## ================================\n",
    "fig1, ax1 = plot_confusion_matrix(conf_mat=cm, show_absolute=True,\n",
    "                                show_normed=True,\n",
    "                                colorbar=True,\n",
    "                                  class_names=class_names)\n",
    "plt.figure(1)\n",
    "# plt.show()\n",
    "\n",
    "fname = 'Dynamic Weighted Majority valence.jpeg'\n",
    "\n",
    "plt.savefig(fname, bbox_inches='tight')"
   ]
  },
  {
   "cell_type": "code",
   "execution_count": 5,
   "metadata": {},
   "outputs": [
    {
     "name": "stdout",
     "output_type": "stream",
     "text": [
      "Confiusion matric\n",
      "[[205 338]\n",
      " [179 558]]\n",
      "Classification Report\n",
      "              precision    recall  f1-score   support\n",
      "\n",
      "         Low       0.53      0.38      0.44       543\n",
      "        High       0.62      0.76      0.68       737\n",
      "\n",
      "    accuracy                           0.60      1280\n",
      "   macro avg       0.58      0.57      0.56      1280\n",
      "weighted avg       0.59      0.60      0.58      1280\n",
      "\n"
     ]
    },
    {
     "data": {
      "image/png": "[encoded data removed]",
      "text/plain": [
       "<Figure size 432x288 with 2 Axes>"
      ]
     },
     "metadata": {
      "needs_background": "light"
     },
     "output_type": "display_data"
    }
   ],
   "source": [
    "#============================================\n",
    "# arousal Classification Report\n",
    "#============================================\n",
    "from sklearn.metrics import confusion_matrix\n",
    "from sklearn.metrics import balanced_accuracy_score\n",
    "from sklearn.metrics import classification_report\n",
    "\n",
    "y_true = aro_actual_class_labels #Acutal class labels\n",
    "\n",
    "y_pred = aro_predicted_class_labels #Predicted Class labels\n",
    "\n",
    "cm = confusion_matrix(y_true, y_pred) # Confusion Matrix\n",
    "\n",
    "target_names = ['Low','High'] # Class names\n",
    "\n",
    "c_report = classification_report(y_true, y_pred, target_names=target_names) #Classification report\n",
    "\n",
    "acc_score = balanced_accuracy_score(y_true, y_pred) #Balanced accuracy Score calculation\n",
    "\n",
    "\n",
    "print('Confiusion matric')\n",
    "print(cm)\n",
    "\n",
    "# print('Accuracy score', acc_score)\n",
    "\n",
    "print('Classification Report')\n",
    "print(c_report)\n",
    "\n",
    "from mlxtend.plotting import plot_confusion_matrix\n",
    "import matplotlib.pyplot as plt\n",
    "\n",
    "class_names = target_names\n",
    "## Plot Confusion matric Valence \n",
    "## ================================\n",
    "fig1, ax1 = plot_confusion_matrix(conf_mat=cm, show_absolute=True,\n",
    "                                show_normed=True,\n",
    "                                colorbar=True,\n",
    "                                  class_names=class_names)\n",
    "plt.figure(1)\n",
    "# plt.show()\n",
    "\n",
    "fname = 'Dynamic Weighted Majority arousal.jpeg'\n",
    "\n",
    "plt.savefig(fname, bbox_inches='tight')"
   ]
  },
  {
   "cell_type": "code",
   "execution_count": null,
   "metadata": {},
   "outputs": [],
   "source": []
  }
 ],
 "metadata": {
  "kernelspec": {
   "display_name": "Python 3",
   "language": "python",
   "name": "python3"
  },
  "language_info": {
   "codemirror_mode": {
    "name": "ipython",
    "version": 3
   },
   "file_extension": ".py",
   "mimetype": "text/x-python",
   "name": "python",
   "nbconvert_exporter": "python",
   "pygments_lexer": "ipython3",
   "version": "3.7.6"
  }
 },
 "nbformat": 4,
 "nbformat_minor": 4
}
